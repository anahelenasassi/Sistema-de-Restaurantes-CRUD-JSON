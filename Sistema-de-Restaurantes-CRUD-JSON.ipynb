{
  "nbformat": 4,
  "nbformat_minor": 0,
  "metadata": {
    "colab": {
      "provenance": []
    },
    "kernelspec": {
      "name": "python3",
      "display_name": "Python 3"
    },
    "language_info": {
      "name": "python"
    }
  },
  "cells": [
    {
      "cell_type": "markdown",
      "source": [
        "**PROJETO - LÓGICA DE PROGRAMAÇÃO II**\n",
        "\n",
        "**EQUIPE: Grupo C**\n",
        "\n",
        "**Alunos**:\n",
        "- Alessandra Conceição Santiago Guimarães\n",
        "- Ana Helena Sassi Meinschmiedt\n",
        "- Brenda Flávia de Azeredo\n",
        "- Enzo de Arruda Santos Scalassara\n",
        "- Michael Santana\n",
        "- Thomaz Melo Cruz Neto\n",
        "\n",
        "\n",
        "**Objetivo**: Desenvolver um CRUD utilizando um arquivo JSON para \"persistir\" os dados e aplicar algumas outras funcionalidades que seriam interessantes no sistema.\n",
        "\n",
        "**Requisitos**: O projeto deve conter as seguintes funcionalidades/ características:\n",
        "\n",
        "- Utilizar JSON para persistir os dados\n",
        "- Função de criar o arquivo JSON\n",
        "- Função para adicionar registros (através do input, ou de um conjunto de dados históricos, por exemplo)\n",
        "- Função para realizar o udpate (atualização) das informações\n",
        "- Função para excluir registros\n",
        "- Função para realizar a leitura de registros\n",
        "- Função para filtrar informações dos dados\n",
        "- Função para aplicar alguma regra de negócio (varia de acordo com o sistema, exemplo, grupo criou um sistema de consulta de colaboradores, logo deseja-se ter uma função que calcula o faturamento de todos os funcionários que são vendedores)\n",
        "- Função que retorne alguma estatística dos dados\n",
        "- Exemplos de funcionamento de cada uma das funções acima\n",
        "\n",
        "**Pontos importantes**:\n",
        "\n",
        "- Organização de código no jupyter notebook (não precisa de ppt, no dia apenas o notebook será necessário)\n",
        "- Definição sobre o que será o sistema (livre e definido pelo grupo)\n",
        "- Apresentação do sistema e funcionalidades (assim como os exemplos). Não precisa ser o grupo todo apresentando\n",
        "- Gerenciamento de erros, como no caso de num input o usuário colocar 'abc' num campo de valor inteiro\n",
        "- A nota do grupo será a nota de cada integrante\n",
        "- Tempo de apresentação: de 15 a 20 minutos\n",
        "- A princípio todos integrantes devem entregar o mesmo notebook no sistema do LMS, para fins de retorno de nota\n",
        "- Não precisa se ater somente aos 10 requisitos acima, pode ir além :)"
      ],
      "metadata": {
        "id": "csCGCaOAAqVR"
      }
    },
    {
      "cell_type": "markdown",
      "source": [
        "#Descrição do Projeto\n",
        "\n",
        "Aproveitamos o Projeto desenvolvido em Lógica de Programação I e o aprimoramos. Inicialmente, ele foi desenvolvido em listas e agora utilizaremos dicionário. As informações serão armazenadas num arquivo JSON.\n",
        "\n",
        "Desenvolvemos um Sistema de Gerenciamento de Restaurante. No menu inicial é apresentado as opções que temos para utilizar no sistema.  \n",
        "\n",
        "\n",
        "\n",
        "# Função Inicial\n",
        "Iniciando com três restaurantes fictícios para facilitar os testes.\n",
        "\n",
        "FORMATO DICIONÁRIO - Todos os 3 restaurantes abaixo, e futuros restaurantes terão que estar formatados desta forma!\n",
        "restaurante1 = {\"nome\": \"Sabor Mexicano\", \"endereco\": \"Rua das Margaritas, 123\", \"tel\": \"(555) 555-1234\",\"tempo_entrega\": \"30-45\", \"cardapio\": []}\n",
        "\n"
      ],
      "metadata": {
        "id": "3YrfWkRQC0sp"
      }
    },
    {
      "cell_type": "code",
      "source": [
        "import json\n",
        "\n",
        "restaurante1 = {\"nome\": \"Sabor Mexicano\",\n",
        "                \"endereco\": \"Rua das Margaritas, 123\",\n",
        "                \"tel\": \"(555) 555-1234\",\n",
        "                \"tempo_entrega\": \"30-45\",\n",
        "                \"cardapio\": [[\"Tacos de Carne Assada\", 18.99], [\"Quesadillas de Frango\", 14.99], [\"Burrito Vegetariano\", 12.99]]}\n",
        "\n",
        "restaurante2 = {\"nome\": \"Delícias Italianas\",\n",
        "                \"endereco\": \"Avenida das Pizzas, 456\",\n",
        "                \"tel\": \"(555) 987-6543\",\n",
        "                \"tempo_entrega\": \"40-55\",\n",
        "                \"cardapio\": [[\"Pizza Margherita\", 21.99], [\"Lasanha à Bolonhesa\", 17.99], [\"Spaghetti Carbonara\", 15.99]]}\n",
        "\n",
        "restaurante3 = {\"nome\": \"Sabor Oriental\",\n",
        "                \"endereco\": \"Praça do Sushi, 789\",\n",
        "                \"tel\": \"(555) 321-7890\",\n",
        "                \"tempo_entrega\": \"25-40\",\n",
        "                \"cardapio\": [[\"Sushi Variado (12 peças)\", 24.99], [\"Tempurá de Legumes\", 16.99], [\"Frango Xadrez com Arroz\", 18.99]]}\n",
        "\n",
        "\n",
        "lista_de_restaurantes_criados = [restaurante1, restaurante2, restaurante3]\n",
        "\n",
        "dicionario_de_restaurantes = {\"lista de restaurantes\": lista_de_restaurantes_criados}"
      ],
      "metadata": {
        "id": "nOvjKBoFC_K4"
      },
      "execution_count": null,
      "outputs": []
    },
    {
      "cell_type": "markdown",
      "source": [
        "#Criação do arquivo JSON\n",
        "\n",
        "Essa função cria um arquivo JSON com o dicionario_de_restaurantes, com os dados dentro do arquivo."
      ],
      "metadata": {
        "id": "0opJ1Ma0FWh6"
      }
    },
    {
      "cell_type": "code",
      "source": [
        "def create_json():\n",
        "    dic_json = json.dumps(dicionario_de_restaurantes, indent=4)\n",
        "\n",
        "    with open(\"sistema_de_restaurantes.json\", \"w\") as arquivo_json:\n",
        "        arquivo_json.write(dic_json)\n",
        "\n",
        "    arquivo_json.close()"
      ],
      "metadata": {
        "id": "jqbQPjJ2Fa0R"
      },
      "execution_count": null,
      "outputs": []
    },
    {
      "cell_type": "markdown",
      "source": [
        "#Atualização do arquivo JSON\n",
        "\n",
        "Essa função atualiza o arquivo JSON com o dicionario_de_restaurantes."
      ],
      "metadata": {
        "id": "l5qV-775FwvU"
      }
    },
    {
      "cell_type": "code",
      "source": [
        "def update_json(dicionario_restaurantes):\n",
        "    dic_json = json.dumps(dicionario_restaurantes, indent=4)\n",
        "    with open(\"sistema_de_restaurantes.json\", \"w\") as arquivo_json:\n",
        "        arquivo_json.write(dic_json)\n",
        "\n",
        "    arquivo_json.close()"
      ],
      "metadata": {
        "id": "UGPv6JAeFw9z"
      },
      "execution_count": null,
      "outputs": []
    },
    {
      "cell_type": "markdown",
      "source": [
        "#Abrir o arquivo JSON\n",
        "\n",
        "Essa função vai abrir o arquivo JSON, pegar o que está dentro, tranformar em um dicionário e retorná-lo."
      ],
      "metadata": {
        "id": "zWSW9KFRGAAO"
      }
    },
    {
      "cell_type": "code",
      "source": [
        "def read_json():\n",
        "    arquivo0 = open('sistema_de_restaurantes.json')\n",
        "    dicionario = json.load(arquivo0)\n",
        "    arquivo0.close()\n",
        "    return dicionario"
      ],
      "metadata": {
        "id": "8DK0c0BoGASj"
      },
      "execution_count": null,
      "outputs": []
    },
    {
      "cell_type": "markdown",
      "source": [
        "#Menu Inicial\n",
        "\n",
        "Função principal que inicia todas as outras a partir de seu menu de texto, recebe como parâmetro o dicionário de restaurantes com todas as informações.\n",
        "\n",
        "Caso o usuário digite uma alternativa inexistente no menu, o sistema retorna dizendo que com \"OPÇÃO INVÁLIDA\"."
      ],
      "metadata": {
        "id": "5wrL4G7sJ4Bh"
      }
    },
    {
      "cell_type": "code",
      "source": [
        "def menu(dicionario_dos_restaurantes):\n",
        "\n",
        "    while True:\n",
        "        print(\"\\n\\033[1;94mSISTEMA DE GERENCIAMENTO DE RESTAURANTES\\033[0m\")\n",
        "        resposta = input(f'''\\033[4mEscolha uma das opções\\033[0m:\n",
        "    1 - Lista de Restaurantes\n",
        "    2 - Adicionar Restaurante\n",
        "    3 - Editar Restaurante\n",
        "    4 - Remover Restaurantes\n",
        "    5 - Gestão dos Cardápios\n",
        "    6 - Promoção\n",
        "    7 - Estatística(Média dos Preços dos Pratos)\n",
        "    8 - Filtrar prato por preço\n",
        "    9 - Sair \\n''')\n",
        "\n",
        "        if resposta == \"1\":\n",
        "            listar_restaurante(dicionario_dos_restaurantes)\n",
        "        elif resposta == \"2\":\n",
        "            adicionar_json(dicionario_dos_restaurantes,'restaurante')\n",
        "        elif resposta == \"3\":\n",
        "            editar_restaurante(dicionario_dos_restaurantes)\n",
        "        elif resposta == \"4\":\n",
        "            remover_restaurante_json(dicionario_dos_restaurantes)\n",
        "        elif resposta == \"5\":\n",
        "            editar_cardapio(dicionario_dos_restaurantes)\n",
        "        elif resposta == \"6\":\n",
        "            promocao(dicionario_dos_restaurantes)\n",
        "        elif resposta == \"7\":\n",
        "            estatistica(dicionario_dos_restaurantes)\n",
        "        elif resposta == \"8\":\n",
        "            filtro_prato(dicionario_dos_restaurantes)\n",
        "        elif resposta == \"9\":\n",
        "            print(\"Até mais! Saindo do programa...\")\n",
        "            break\n",
        "        else:\n",
        "            print('\\n\\033[91mOPÇÃO INVÁLIDA. Digite de 1 a 8.\\033[0m')"
      ],
      "metadata": {
        "id": "YUl0jKXAJ9jf"
      },
      "execution_count": null,
      "outputs": []
    },
    {
      "cell_type": "markdown",
      "source": [
        "#Listar restaurantes\n",
        "\n",
        "Essa função printa nome, endereço, telefone, tempo de entrega e cardápio de todos os restaurantes contidos no cadastro."
      ],
      "metadata": {
        "id": "pyX4RLzJKGpL"
      }
    },
    {
      "cell_type": "code",
      "source": [
        "def listar_restaurante(dicionario):\n",
        "\n",
        "    print(\"\\033[1;4;94mLISTA DE RESTAURANTES\\033[0m\")\n",
        "\n",
        "    # Loop para acessar a lista de dados de cada restaurante, contidos na lista de restaurantes\n",
        "    for restaurante in dicionario['lista de restaurantes']:\n",
        "        print(f\"\\n\\033[1mNome\\033[0m: {restaurante['nome']} \\n\\033[1mEndereço\\033[0m: {restaurante['endereco']}\")\n",
        "        print(f\"\\033[1mTelefone\\033[0m: {restaurante['tel']} \\n\\033[1mTempo de Entrega\\033[0m: {restaurante['tempo_entrega']} minutos\")\n",
        "        print(\"\\033[1mCardápio\\033[0m:\")\n",
        "        # Loop para acessar os dados da lista do cardápio\n",
        "        i = 1\n",
        "        for item in restaurante['cardapio']:\n",
        "            print(f\"\\033[1m{i}\\033[0m- {item[0]} - R$ {item[1]:.2f}\")\n",
        "            i += 1"
      ],
      "metadata": {
        "id": "9cHlPRxfKIlp"
      },
      "execution_count": null,
      "outputs": []
    },
    {
      "cell_type": "markdown",
      "source": [
        "#Editar restaurante\n",
        "\n",
        "Essa função edita um restaurante da lista de restaurantes (não permite edição do cardápio).\n",
        "\n",
        "Também varre a lista de restaurantes, comparando o nome de cada restaurante com o nome fornecido pelo input.\n",
        "\n",
        "Atualiza o arquivo JSON.\n",
        "\n",
        "E caso seja digitado o nome de um restaurante inexistente, é informado \"RESTAURANTE XXX NÃO ENCONTRADO\".\n",
        "   "
      ],
      "metadata": {
        "id": "9iZe_iKfK6wM"
      }
    },
    {
      "cell_type": "code",
      "source": [
        "def editar_restaurante(dicionario_dos_restaurantes):\n",
        "\n",
        "    counter = 0\n",
        "\n",
        "    for restaurante in dicionario_dos_restaurantes['lista de restaurantes']:\n",
        "        print(f\"\\033[1mNome:\\033[0m {restaurante['nome']}\")\n",
        "        counter += 1\n",
        "\n",
        "    nome_restaurante = input(\"\\033[4mDigite o nome do restaurante que deseja editar\\033[0m: \").title()\n",
        "\n",
        "    for restaurante in dicionario_dos_restaurantes['lista de restaurantes']:\n",
        "\n",
        "        if restaurante['nome'] == nome_restaurante:\n",
        "            restaurante['nome'] = input(\"Digite o novo nome: \").title()\n",
        "            restaurante['endereco'] = input(\"Digite o novo endereço: \").title()\n",
        "            restaurante['tel'] = input(\"Digite o novo telefone: \")\n",
        "            restaurante['tempo_entrega'] = input(\"Digite o novo tempo de entrega: \")\n",
        "            print(f\"\\n\\033[92mRestaurante '{nome_restaurante}' editado com sucesso.\\033[0m\")\n",
        "\n",
        "            update_json(dicionario_dos_restaurantes)\n",
        "\n",
        "            return\n",
        "\n",
        "    print(f\"\\n\\033[91mRestaurante '{nome_restaurante}' não encontrado.\\033[0m\")"
      ],
      "metadata": {
        "id": "WVrFeT3ZK6_2"
      },
      "execution_count": null,
      "outputs": []
    },
    {
      "cell_type": "markdown",
      "source": [
        "#Gestão dos Cardápios\n",
        "\n",
        "Função principal referente a alterações no cardápio, utilizando um menu próprio.\n",
        "\n",
        "- Lista todos os restaurantes disponíveis e atribui-lhes uma chave\n",
        "(índice) para acesso.\n",
        "- Valida o input.\n",
        "- Após escolher o restaurante em que o usuário deseja realizar alterações no cardápio, ele deve escolher o tipo de alteração que deseja realizar:\n",
        "        1 - Adicionar Prato\n",
        "        2 - Editar Prato\n",
        "        3 - Remover Prato\n",
        "        4 - Voltar ao Menu Principal\n",
        "- 1 - Adicionar prato: função para adicionar um prato ao cardápio do restaurante. Pede para digitar o nome do prato e o preço do prato.\n",
        "- 2 - Editar Prato: função para editar um prato do cardápio do restaurante. Lista todos os pratos disponíveis no cardápio e atribui-lhes uma chave(índice) para acesso. Seleciona o prato que vai ser alterado e valida o input como um int no range dos índices da lista. Altera o preço do prato e valida o input como uma string que pode ser convertida para float. E finaliza com a mensagem de alteração.\n",
        "- 3 - Remover Prato: função para remover um prato do cardápio do restaurante. Lista todos os pratos disponíveis no cardápio e atribui-lhes uma chave(índice) para acesso. Valida o input como um int no range dos índices da lista e finaliza com a mensagem de que foi removido com sucesso.  \n",
        "- Atualiza o arquivo JSON.\n",
        "- E retorna para o loop inicial da função do menu. Caso o usuário digite uma alternativa inexistente no menu, o sistema retorna dizendo que com \"OPÇÃO INVÁLIDA\"."
      ],
      "metadata": {
        "id": "fpU7ADYZLeTO"
      }
    },
    {
      "cell_type": "code",
      "source": [
        "def editar_cardapio(dicionario_dos_restaurantes):\n",
        "\n",
        "    counter = 1\n",
        "\n",
        "    for restaurante in dicionario_dos_restaurantes['lista de restaurantes']:\n",
        "        print(f\"\\033[1m{counter}\\033[0m - {restaurante['nome']}\")\n",
        "        counter += 1\n",
        "\n",
        "    while True:\n",
        "        resposta = input(\n",
        "            f\"Selecione o restaurante em que você deseja fazer alterações no cardápio [1, 2, 3,...]:\\n\").title()\n",
        "\n",
        "        if resposta.isdigit():\n",
        "            if 1 <= int(resposta) <= len(dicionario_dos_restaurantes['lista de restaurantes']):\n",
        "                resposta = int(resposta)\n",
        "                resposta -= 1\n",
        "                break\n",
        "        else:\n",
        "            print(\"\\n\\033[91mOPÇÃO INVÁLIDA. Tente novamente!\\033[0m\")\n",
        "\n",
        "\n",
        "    while True:\n",
        "\n",
        "        resposta_crud = input(f'''\\n\\033[4mRestaurante selecionado\\033[0m: \\033[1m{dicionario_dos_restaurantes['lista de restaurantes'][resposta]['nome']}\\033[4mEscolha uma das opções\\033[0m:\n",
        "        1 - Adicionar Prato\n",
        "        2 - Editar Prato\n",
        "        3 - Remover Prato\n",
        "        4 - Voltar ao Menu Principal\n",
        "        ''')\n",
        "\n",
        "        if resposta_crud == \"1\":\n",
        "            adicionar_json(dicionario_dos_restaurantes, 'cardapio', int(resposta))\n",
        "        elif resposta_crud == \"2\":\n",
        "            if len(dicionario_dos_restaurantes['lista de restaurantes'][resposta]['cardapio']) > 0:\n",
        "                editar_prato(dicionario_dos_restaurantes['lista de restaurantes'][resposta])\n",
        "\n",
        "                update_json(dicionario_dos_restaurantes)\n",
        "\n",
        "            else:\n",
        "                print('\\n\\033[91mNão há pratos neste restaurante.\\033[0m')\n",
        "                return\n",
        "        elif resposta_crud == \"3\":\n",
        "            if len(dicionario_dos_restaurantes['lista de restaurantes'][resposta]['cardapio']) > 0:\n",
        "                remover_prato(dicionario_dos_restaurantes['lista de restaurantes'][resposta])\n",
        "\n",
        "\n",
        "                update_json(dicionario_dos_restaurantes)\n",
        "\n",
        "            else:\n",
        "                print('\\n\\033[91mNão há pratos neste restaurante.\\033[0m')\n",
        "                return\n",
        "\n",
        "\n",
        "        elif resposta_crud == \"4\":\n",
        "            return\n",
        "\n",
        "        else:\n",
        "            print('\\n\\033[91mOPÇÃO INVÁLIDA. Digite 1, 2, 3 ou 4.\\033[0m')\n",
        "\n",
        "def editar_prato(restaurante):\n",
        "\n",
        "    print(f\"\\n\\n\\033[4mCardápio atual do restaurante {restaurante['nome']}\\033[0m:\\n\")\n",
        "    counter = 1\n",
        "\n",
        "    for elem in restaurante['cardapio']:\n",
        "        print(f\"{counter} - {elem[0]}  - R${elem[1]:.2f}\")\n",
        "        counter += 1\n",
        "\n",
        "    while True:\n",
        "        resposta = input(\"Selecione o prato que você deseja editar:\\n\")\n",
        "        if resposta.isdigit():\n",
        "            if 1 <= int(resposta) <= len(restaurante['cardapio']):\n",
        "                resposta = int(resposta)\n",
        "                resposta -= 1\n",
        "                break\n",
        "\n",
        "    print(f\"Nome atual do prato: \\\"{restaurante['cardapio'][resposta][0]}\\\"\")\n",
        "    print(f\"Preço atual do prato: \\\"{restaurante['cardapio'][resposta][1]:.2f}\\\"\")\n",
        "\n",
        "    nome = input(\"Novo nome para o prato:\\n\").title()\n",
        "\n",
        "    while True:\n",
        "        preco = input(\"Novo preço para o prato:\\n\")\n",
        "\n",
        "        if preco.replace('.', '', 1).isdigit() or preco.replace(',', '', 1).isdigit():\n",
        "            if ',' in preco:\n",
        "                preco = preco.replace(',', '.', 1)\n",
        "            preco = float(preco)\n",
        "            break\n",
        "\n",
        "    print(\n",
        "        f\"\\n\\n\\033[92mO prato \\\"{restaurante['cardapio'][resposta][0]}\\\" - R${restaurante['cardapio'][resposta][1]} foi alterado para:\\n\\033[0m\"\n",
        "        f\"{nome} -  R${preco:.2f}\")\n",
        "\n",
        "    restaurante['cardapio'][resposta][0] = nome\n",
        "    restaurante['cardapio'][resposta][1] = preco\n",
        "\n",
        "def remover_prato(restaurante):\n",
        "\n",
        "    print(f\"\\n\\nCardápio atual do restaurante {restaurante['nome']}:\")\n",
        "\n",
        "    counter = 1\n",
        "\n",
        "    for elem in restaurante['cardapio']:\n",
        "\n",
        "        print(f\"[{counter}] Prato: {elem[1]}  -  Preço: R${elem[1]:.2f}\")\n",
        "        counter += 1\n",
        "\n",
        "    while True:\n",
        "\n",
        "        resposta = input(\"Selecione o prato que você deseja remover:\\n\")\n",
        "\n",
        "        if resposta.isdigit():\n",
        "\n",
        "\n",
        "            if 0 <= int(resposta) <= len(restaurante['cardapio']) - 1:\n",
        "                resposta = int(resposta) + 1\n",
        "                break\n",
        "\n",
        "    print(f\"O prato {restaurante['cardapio'][resposta]} foi removido do cardápio com sucesso!\")\n",
        "    restaurante['cardapio'].pop(resposta)\n"
      ],
      "metadata": {
        "id": "dPPrud8jLfdc"
      },
      "execution_count": null,
      "outputs": []
    },
    {
      "cell_type": "markdown",
      "source": [
        "#Adicionar Cardápio ou Restaurante no JSON\n",
        "\n",
        "Função utilizada para adicionar cardápio ou restaurante no arquivo JSON. Transforma em objeto a lista de restaurantes e o cardápio.\n"
      ],
      "metadata": {
        "id": "tyaOo9ydNZ6k"
      }
    },
    {
      "cell_type": "code",
      "source": [
        "def adicionar_json(dicionario, objeto: str, resposta: int = None):\n",
        "\n",
        "    lista_de_restaurantes = read_json()\n",
        "\n",
        "    if objeto == 'restaurante':\n",
        "        novo_restaurante = {\n",
        "            \"nome\": input('Digite o Nome do Restaurante: ').title(),\n",
        "            \"endereco\": input('Digite o Endereço [Rua, nº]: ').title(),\n",
        "            \"tel\": input('Digite o Telefone [(DD) 00000-0000]: '),\n",
        "            \"tempo_entrega\": input('Digite o Tempo Médio de Entrega [minutos]: '),\n",
        "            \"cardapio\": []\n",
        "        }\n",
        "        dicionario['lista de restaurantes'].append(novo_restaurante)\n",
        "        print(f\"\\n\\033[92mRestaurante {dicionario['lista de restaurantes'][-1]['nome']} adicionado com sucesso.\\033[0m\")\n",
        "\n",
        "    elif objeto == 'cardapio':\n",
        "        prato = input(\"Digite o nome do prato: \").title()\n",
        "        while True:\n",
        "            preco = input(\"Digite o preço do prato:\\n\")\n",
        "\n",
        "            if preco.replace('.', '', 1).isdigit() or preco.replace(',', '', 1).isdigit():\n",
        "                if ',' in preco:\n",
        "                    preco = preco.replace(',', '.', 1)\n",
        "                preco = float(preco)\n",
        "                break\n",
        "\n",
        "        dicionario['lista de restaurantes'][resposta]['cardapio'].append([prato, preco])\n",
        "        print(f\"\\n\\033[92mO prato \\\"{prato}\\\" com o preço R${preco:.2f} foi adicionado ao cardápio com sucesso!\\033[0m\")"
      ],
      "metadata": {
        "id": "-IBzjHbANY2d"
      },
      "execution_count": null,
      "outputs": []
    },
    {
      "cell_type": "markdown",
      "source": [
        "#Remover Restaurante no JSON\n",
        "Função para Remover Registros no arquivo JSON. Nesta função, é feita a leitura do JSON, e o registro correspondente ao índice fornecido é removido.\n",
        "\n",
        "Varre a lista de restaurantes, comparando o nome de cada restaurante com o nome fornecido pelo input."
      ],
      "metadata": {
        "id": "TXcQOkQSW-7D"
      }
    },
    {
      "cell_type": "code",
      "source": [
        "def remover_restaurante_json(dicionario_dos_restaurantes):\n",
        "\n",
        "    counter = 1\n",
        "\n",
        "    for restaurante in dicionario_dos_restaurantes['lista de restaurantes']:\n",
        "        print(f\"\\033[1m{counter}\\033[0m - {restaurante['nome']}\")\n",
        "        counter += 1\n",
        "\n",
        "\n",
        "    while True:\n",
        "        resposta = input(f\"\\033[4mDigite o restaurante que deseja remover\\033[0m: \\n\").title()\n",
        "\n",
        "        for restaurante in dicionario_dos_restaurantes['lista de restaurantes']:\n",
        "            if resposta.isdigit():\n",
        "                if 1 <= int(resposta) <= len(dicionario_dos_restaurantes['lista de restaurantes']):\n",
        "                  restaurante = dicionario_dos_restaurantes['lista de restaurantes'].remove(restaurante)\n",
        "                  print(f\"Restaurante removido\\n\")\n",
        "                  return\n",
        "            else:\n",
        "                print(\"\\n\\033[91mOPÇÃO INVÁLIDA. Tente novamente!\\033[0m\")\n",
        "\n",
        "\n",
        "    with open('sistema_de_restaurantes.json', 'w') as arquivo_json:\n",
        "        json.dump(lista_de_restaurantes, arquivo_json, indent=2)"
      ],
      "metadata": {
        "id": "OCNyqpybW-CQ"
      },
      "execution_count": null,
      "outputs": []
    },
    {
      "cell_type": "markdown",
      "source": [
        "#Validar Arquivo JSON\n",
        "\n",
        "Lista restaurantes, recebe input do usuario e valida contra os restaurantes existentes.\n",
        "\n",
        "    Args:\n",
        "      dicionario - importado do json.\n",
        "      mensagem - texto para usuaio. Usar esse codigo abaixo uma linha acima da invocação da função\n",
        "      mensagem = \"\\033[4m XXXXXXX SUA MENSAGEM AQUI XXXXXXXXX.\\033[0m:\"\n",
        "\n",
        "    Returns:\n",
        "      Se valido: restaurante['nome']\n",
        "      Se invalido str 'Invalido'."
      ],
      "metadata": {
        "id": "_e1IwgeuX_Xe"
      }
    },
    {
      "cell_type": "code",
      "source": [
        "def valida_restaurantes(dicionario, texto):\n",
        "\n",
        "    for restaurante in dicionario[\"lista de restaurantes\"]:\n",
        "        print(f\"\\033[1mNome:\\033[0m {restaurante['nome']}\")\n",
        "\n",
        "\n",
        "    nome_restaurante = input(texto).title()\n",
        "\n",
        "\n",
        "    cont = 0\n",
        "    for restaurante in dicionario[\"lista de restaurantes\"]:\n",
        "        if restaurante[\"nome\"] == nome_restaurante:\n",
        "            return restaurante[\"nome\"], cont\n",
        "        else:\n",
        "            cont += 1\n",
        "    print(f\"\\n\\033[91mRestaurante '{nome_restaurante}' não encontrado na lista.\\033[0m\")\n",
        "    return \"Invalido\", cont"
      ],
      "metadata": {
        "id": "gJ6_-48TYAAk"
      },
      "execution_count": null,
      "outputs": []
    },
    {
      "cell_type": "markdown",
      "source": [
        "#Regra de Negócio\n",
        "\n",
        "A função da regra de negócio é aplicar um desconto a todos os pratos do restaurante escolhido.\n",
        "\n",
        "Exemplo: se digitado 50, ele reduzirá o preço dos pratos em 50%."
      ],
      "metadata": {
        "id": "IKpW_itVYlM1"
      }
    },
    {
      "cell_type": "code",
      "source": [
        "def promocao(dicionario):\n",
        "    mensagem = \"\\033[4mDigite o nome do restaurante que fazer uma promoção.\\033[0m:\"\n",
        "    restaurante_valido, indice = valida_restaurantes(dicionario, mensagem)\n",
        "    if restaurante_valido == \"Invalido\":\n",
        "        return\n",
        "\n",
        "    else:\n",
        "        desconto = \"0.0\"\n",
        "        while not desconto.isnumeric():\n",
        "            mensagem = \"\\033[4mDigite o desconto desejado. Ex: 30 => 30%.\\033[0m: \"\n",
        "            desconto = input(mensagem).title()\n",
        "\n",
        "        coeficiente = (100 - int(desconto)) / 100\n",
        "\n",
        "        for prato in dicionario[\"lista de restaurantes\"][indice][\"cardapio\"]:\n",
        "            prato[1] = round(prato[1] * coeficiente, 2)"
      ],
      "metadata": {
        "id": "PEbTMWOSYlh9"
      },
      "execution_count": null,
      "outputs": []
    },
    {
      "cell_type": "markdown",
      "source": [
        "#Estatística dos Dados\n",
        "Como o nosso sistema é no gerenciamento das informações dos Restaurantes e não recebe os pedidos, a nossa função da estatística vai ser: calcular a média do valor dos pratos dos restaurantes e exibir o resultado."
      ],
      "metadata": {
        "id": "Rxok4VWiYp99"
      }
    },
    {
      "cell_type": "code",
      "source": [
        "\n",
        "def estatistica(dicionario):\n",
        "    precos_totais = 0\n",
        "    num_pratos = 0\n",
        "\n",
        "    for restaurante in dicionario[\"lista de restaurantes\"]:\n",
        "        for prato in restaurante[\"cardapio\"]:\n",
        "            precos_totais += prato[1]\n",
        "            num_pratos += 1\n",
        "\n",
        "    if num_pratos > 0:\n",
        "\n",
        "        media_precos = precos_totais / num_pratos\n",
        "\n",
        "        print(f\"A média de preços é R${media_precos:.2f}\")\n",
        "    else:\n",
        "        return 0"
      ],
      "metadata": {
        "id": "qLQZjeEvYqN0"
      },
      "execution_count": null,
      "outputs": []
    },
    {
      "cell_type": "markdown",
      "source": [
        "#Filtro de Informações\n",
        "A função vai printar todos os pratos que estejam abaixo ou igual ao valor digitado."
      ],
      "metadata": {
        "id": "-CBviNm5Ythj"
      }
    },
    {
      "cell_type": "code",
      "source": [
        "def filtro_prato(dicionario):\n",
        "    preco = float(input(\"Digite o preço limite de pratos que você procura:\\n\"))\n",
        "    lista_pratos = []\n",
        "    for restaurante in dicionario['lista de restaurantes']:\n",
        "        for prato in restaurante['cardapio']:\n",
        "            if prato[1] <= preco:\n",
        "                lista_pratos.append(prato)\n",
        "\n",
        "    print(f\"Pratos abaixo de R${preco}:\")\n",
        "    i = 1\n",
        "    for prato in lista_pratos:\n",
        "        print(f\"[{i}] {prato[0]} - {prato[1]}\")\n",
        "        i += 1\n",
        "\n"
      ],
      "metadata": {
        "id": "SdbWh0yYYtIp"
      },
      "execution_count": null,
      "outputs": []
    },
    {
      "cell_type": "markdown",
      "source": [
        "#Código do Projeto\n",
        "\n",
        "Cria o JSON, atribui o conteúdo (dicionário) do JSON à variável dic e inicia o MENU INCIAL."
      ],
      "metadata": {
        "id": "AwXUV8RmZ8SK"
      }
    },
    {
      "cell_type": "code",
      "source": [
        "create_json()\n",
        "dic = read_json()\n",
        "menu(dic)"
      ],
      "metadata": {
        "id": "z8sqes_kZ8et"
      },
      "execution_count": null,
      "outputs": []
    }
  ]
}